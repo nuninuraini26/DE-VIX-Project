{
 "cells": [
  {
   "cell_type": "code",
   "execution_count": 20,
   "metadata": {},
   "outputs": [],
   "source": [
    "import psycopg2"
   ]
  },
  {
   "cell_type": "code",
   "execution_count": 22,
   "metadata": {},
   "outputs": [],
   "source": [
    "conn = psycopg2.connect(\n",
    "    database=\"kalbe\",\n",
    "    host=\"localhost\",\n",
    "    port=5432,\n",
    "    user=\"postgres\",\n",
    "    password=1234\n",
    ")\n",
    "curr = conn.cursor()"
   ]
  },
  {
   "cell_type": "code",
   "execution_count": 24,
   "metadata": {},
   "outputs": [],
   "source": [
    "sql_1 = \"\"\"CREATE TABLE karyawan (\n",
    "first_name VARCHAR(50) NOT NULL,\n",
    "last_name VARCHAR(50) NULL,\n",
    "age SMALLINT NOT NULL,\n",
    "sex VARCHAR(10) NOT NULL,\n",
    "income INT NOT NULL\n",
    ")\"\"\"\n",
    "sql_2 = \"\"\"INSERT INTO karyawan VALUES ('Daisy', 'Lee', 23, 'Female', 5000000)\"\"\"\n",
    "sql_3 = \"\"\"INSERT INTO karyawan (first_name, age, sex, income) VALUES ('Andra', 26, 'Male', 8000000)\"\"\""
   ]
  },
  {
   "cell_type": "code",
   "execution_count": 25,
   "metadata": {},
   "outputs": [],
   "source": [
    "try:\n",
    "    curr.execute(sql_1)\n",
    "    curr.execute(sql_2)\n",
    "    curr.execute(sql_3)\n",
    "    conn.commit()\n",
    "except:\n",
    "    curr.execute(\"ROLLBACK\")"
   ]
  },
  {
   "cell_type": "code",
   "execution_count": 26,
   "metadata": {},
   "outputs": [],
   "source": [
    "conn.close()"
   ]
  },
  {
   "cell_type": "code",
   "execution_count": null,
   "metadata": {},
   "outputs": [],
   "source": []
  }
 ],
 "metadata": {
  "kernelspec": {
   "display_name": "Python 3",
   "language": "python",
   "name": "python3"
  },
  "language_info": {
   "codemirror_mode": {
    "name": "ipython",
    "version": 3
   },
   "file_extension": ".py",
   "mimetype": "text/x-python",
   "name": "python",
   "nbconvert_exporter": "python",
   "pygments_lexer": "ipython3",
   "version": "3.11.1"
  },
  "orig_nbformat": 4
 },
 "nbformat": 4,
 "nbformat_minor": 2
}
